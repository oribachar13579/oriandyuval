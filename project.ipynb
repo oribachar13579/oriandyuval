{
 "cells": [
  {
   "cell_type": "code",
   "execution_count": 39,
   "id": "497e033e-b028-4a8f-a415-1403ef05afc3",
   "metadata": {
    "tags": []
   },
   "outputs": [],
   "source": [
    "import pandas as pd\n",
    "import numpy as np\n",
    "import matplotlib.pyplot as plt\n",
    "import seaborn as sns"
   ]
  },
  {
   "cell_type": "code",
   "execution_count": 40,
   "id": "c8079986-2926-475d-aa56-f28dd91db3a1",
   "metadata": {
    "tags": []
   },
   "outputs": [
    {
     "data": {
      "text/html": [
       "<div>\n",
       "<style scoped>\n",
       "    .dataframe tbody tr th:only-of-type {\n",
       "        vertical-align: middle;\n",
       "    }\n",
       "\n",
       "    .dataframe tbody tr th {\n",
       "        vertical-align: top;\n",
       "    }\n",
       "\n",
       "    .dataframe thead th {\n",
       "        text-align: right;\n",
       "    }\n",
       "</style>\n",
       "<table border=\"1\" class=\"dataframe\">\n",
       "  <thead>\n",
       "    <tr style=\"text-align: right;\">\n",
       "      <th></th>\n",
       "      <th>X</th>\n",
       "      <th>Y</th>\n",
       "      <th>OBJECTID</th>\n",
       "      <th>Incidentid</th>\n",
       "      <th>DateTime</th>\n",
       "      <th>Year</th>\n",
       "      <th>StreetName</th>\n",
       "      <th>CrossStreet</th>\n",
       "      <th>Distance</th>\n",
       "      <th>JunctionRelation</th>\n",
       "      <th>...</th>\n",
       "      <th>Unittype_Two</th>\n",
       "      <th>Age_Drv2</th>\n",
       "      <th>Gender_Drv2</th>\n",
       "      <th>Traveldirection_Two</th>\n",
       "      <th>Unitaction_Two</th>\n",
       "      <th>Violation1_Drv2</th>\n",
       "      <th>AlcoholUse_Drv2</th>\n",
       "      <th>DrugUse_Drv2</th>\n",
       "      <th>Latitude</th>\n",
       "      <th>Longitude</th>\n",
       "    </tr>\n",
       "  </thead>\n",
       "  <tbody>\n",
       "    <tr>\n",
       "      <th>0</th>\n",
       "      <td>-111.95221</td>\n",
       "      <td>33.42191</td>\n",
       "      <td>1</td>\n",
       "      <td>2598369</td>\n",
       "      <td>2012/01/01 07:25:00+00</td>\n",
       "      <td>2012</td>\n",
       "      <td>University Dr</td>\n",
       "      <td>Hardy Dr</td>\n",
       "      <td>0.000</td>\n",
       "      <td>Intersection Non Interchange</td>\n",
       "      <td>...</td>\n",
       "      <td>Driver</td>\n",
       "      <td>20.0</td>\n",
       "      <td>Female</td>\n",
       "      <td>East</td>\n",
       "      <td>Going Straight Ahead</td>\n",
       "      <td>No Improper Action</td>\n",
       "      <td>No Apparent Influence</td>\n",
       "      <td>No Apparent Influence</td>\n",
       "      <td>33.42191</td>\n",
       "      <td>-111.95221</td>\n",
       "    </tr>\n",
       "    <tr>\n",
       "      <th>1</th>\n",
       "      <td>-111.93769</td>\n",
       "      <td>33.42319</td>\n",
       "      <td>2</td>\n",
       "      <td>2593420</td>\n",
       "      <td>2012/01/01 11:45:00+00</td>\n",
       "      <td>2012</td>\n",
       "      <td>7th St</td>\n",
       "      <td>Myrtle Ave</td>\n",
       "      <td>139.920</td>\n",
       "      <td>Not Junction Related</td>\n",
       "      <td>...</td>\n",
       "      <td>NaN</td>\n",
       "      <td>NaN</td>\n",
       "      <td>NaN</td>\n",
       "      <td>NaN</td>\n",
       "      <td>NaN</td>\n",
       "      <td>NaN</td>\n",
       "      <td>NaN</td>\n",
       "      <td>NaN</td>\n",
       "      <td>33.42319</td>\n",
       "      <td>-111.93769</td>\n",
       "    </tr>\n",
       "    <tr>\n",
       "      <th>2</th>\n",
       "      <td>-111.89196</td>\n",
       "      <td>33.41842</td>\n",
       "      <td>3</td>\n",
       "      <td>2588493</td>\n",
       "      <td>2012/01/01 18:07:00+00</td>\n",
       "      <td>2012</td>\n",
       "      <td>Price Rd</td>\n",
       "      <td>Orange St</td>\n",
       "      <td>0.000</td>\n",
       "      <td>Intersection Interchange</td>\n",
       "      <td>...</td>\n",
       "      <td>Driver</td>\n",
       "      <td>31.0</td>\n",
       "      <td>Male</td>\n",
       "      <td>South</td>\n",
       "      <td>Going Straight Ahead</td>\n",
       "      <td>No Improper Action</td>\n",
       "      <td>No Apparent Influence</td>\n",
       "      <td>No Apparent Influence</td>\n",
       "      <td>33.41842</td>\n",
       "      <td>-111.89196</td>\n",
       "    </tr>\n",
       "    <tr>\n",
       "      <th>3</th>\n",
       "      <td>-111.94791</td>\n",
       "      <td>33.41779</td>\n",
       "      <td>4</td>\n",
       "      <td>2584449</td>\n",
       "      <td>2012/01/02 00:03:00+00</td>\n",
       "      <td>2012</td>\n",
       "      <td>11th St</td>\n",
       "      <td>Judd St</td>\n",
       "      <td>200.112</td>\n",
       "      <td>Not Junction Related</td>\n",
       "      <td>...</td>\n",
       "      <td>Driverless</td>\n",
       "      <td>NaN</td>\n",
       "      <td>NaN</td>\n",
       "      <td>East</td>\n",
       "      <td>Properly Parked</td>\n",
       "      <td>NaN</td>\n",
       "      <td>NaN</td>\n",
       "      <td>NaN</td>\n",
       "      <td>33.41779</td>\n",
       "      <td>-111.94791</td>\n",
       "    </tr>\n",
       "    <tr>\n",
       "      <th>4</th>\n",
       "      <td>-111.92847</td>\n",
       "      <td>33.34956</td>\n",
       "      <td>5</td>\n",
       "      <td>2592211</td>\n",
       "      <td>2012/01/02 00:12:00+00</td>\n",
       "      <td>2012</td>\n",
       "      <td>Rural Rd</td>\n",
       "      <td>Elliot Rd</td>\n",
       "      <td>135.168</td>\n",
       "      <td>Intersection Related Non Interchange</td>\n",
       "      <td>...</td>\n",
       "      <td>Driver</td>\n",
       "      <td>20.0</td>\n",
       "      <td>Female</td>\n",
       "      <td>South</td>\n",
       "      <td>Going Straight Ahead</td>\n",
       "      <td>No Improper Action</td>\n",
       "      <td>No Apparent Influence</td>\n",
       "      <td>No Apparent Influence</td>\n",
       "      <td>33.34956</td>\n",
       "      <td>-111.92847</td>\n",
       "    </tr>\n",
       "  </tbody>\n",
       "</table>\n",
       "<p>5 rows × 35 columns</p>\n",
       "</div>"
      ],
      "text/plain": [
       "           X         Y  OBJECTID  Incidentid                DateTime  Year  \\\n",
       "0 -111.95221  33.42191         1     2598369  2012/01/01 07:25:00+00  2012   \n",
       "1 -111.93769  33.42319         2     2593420  2012/01/01 11:45:00+00  2012   \n",
       "2 -111.89196  33.41842         3     2588493  2012/01/01 18:07:00+00  2012   \n",
       "3 -111.94791  33.41779         4     2584449  2012/01/02 00:03:00+00  2012   \n",
       "4 -111.92847  33.34956         5     2592211  2012/01/02 00:12:00+00  2012   \n",
       "\n",
       "      StreetName CrossStreet  Distance                      JunctionRelation  \\\n",
       "0  University Dr    Hardy Dr     0.000          Intersection Non Interchange   \n",
       "1         7th St  Myrtle Ave   139.920                  Not Junction Related   \n",
       "2       Price Rd   Orange St     0.000              Intersection Interchange   \n",
       "3        11th St     Judd St   200.112                  Not Junction Related   \n",
       "4       Rural Rd   Elliot Rd   135.168  Intersection Related Non Interchange   \n",
       "\n",
       "   ...  Unittype_Two  Age_Drv2 Gender_Drv2 Traveldirection_Two  \\\n",
       "0  ...        Driver      20.0      Female                East   \n",
       "1  ...           NaN       NaN         NaN                 NaN   \n",
       "2  ...        Driver      31.0        Male               South   \n",
       "3  ...    Driverless       NaN         NaN                East   \n",
       "4  ...        Driver      20.0      Female               South   \n",
       "\n",
       "         Unitaction_Two     Violation1_Drv2        AlcoholUse_Drv2  \\\n",
       "0  Going Straight Ahead  No Improper Action  No Apparent Influence   \n",
       "1                   NaN                 NaN                    NaN   \n",
       "2  Going Straight Ahead  No Improper Action  No Apparent Influence   \n",
       "3       Properly Parked                 NaN                    NaN   \n",
       "4  Going Straight Ahead  No Improper Action  No Apparent Influence   \n",
       "\n",
       "            DrugUse_Drv2  Latitude  Longitude  \n",
       "0  No Apparent Influence  33.42191 -111.95221  \n",
       "1                    NaN  33.42319 -111.93769  \n",
       "2  No Apparent Influence  33.41842 -111.89196  \n",
       "3                    NaN  33.41779 -111.94791  \n",
       "4  No Apparent Influence  33.34956 -111.92847  \n",
       "\n",
       "[5 rows x 35 columns]"
      ]
     },
     "execution_count": 40,
     "metadata": {},
     "output_type": "execute_result"
    }
   ],
   "source": [
    "url = \"https://raw.githubusercontent.com/oribachar13579/oriandyuval/main/1.08_Crash_Data_Report_(detail).csv\"\n",
    "strike_df = pd.read_csv(url)\n",
    "strike_df.head()"
   ]
  },
  {
   "cell_type": "code",
   "execution_count": 41,
   "id": "08cfd184-cc3e-4de3-a941-1cee5afe656e",
   "metadata": {
    "tags": []
   },
   "outputs": [
    {
     "data": {
      "text/plain": [
       "(51407, 35)"
      ]
     },
     "execution_count": 41,
     "metadata": {},
     "output_type": "execute_result"
    }
   ],
   "source": [
    "strike_df.shape"
   ]
  },
  {
   "cell_type": "code",
   "execution_count": 42,
   "id": "efa80ecb-9ad2-4c7a-b6dd-df1cdfb3bd64",
   "metadata": {
    "tags": []
   },
   "outputs": [
    {
     "name": "stdout",
     "output_type": "stream",
     "text": [
      "<class 'pandas.core.frame.DataFrame'>\n",
      "RangeIndex: 51407 entries, 0 to 51406\n",
      "Data columns (total 35 columns):\n",
      " #   Column               Non-Null Count  Dtype  \n",
      "---  ------               --------------  -----  \n",
      " 0   X                    51081 non-null  float64\n",
      " 1   Y                    51081 non-null  float64\n",
      " 2   OBJECTID             51407 non-null  int64  \n",
      " 3   Incidentid           51407 non-null  int64  \n",
      " 4   DateTime             51407 non-null  object \n",
      " 5   Year                 51407 non-null  int64  \n",
      " 6   StreetName           51201 non-null  object \n",
      " 7   CrossStreet          50744 non-null  object \n",
      " 8   Distance             51406 non-null  float64\n",
      " 9   JunctionRelation     51406 non-null  object \n",
      " 10  Totalinjuries        51406 non-null  float64\n",
      " 11  Totalfatalities      51406 non-null  float64\n",
      " 12  Injuryseverity       51406 non-null  object \n",
      " 13  Collisionmanner      51406 non-null  object \n",
      " 14  Lightcondition       51406 non-null  object \n",
      " 15  Weather              51406 non-null  object \n",
      " 16  SurfaceCondition     51406 non-null  object \n",
      " 17  Unittype_One         51406 non-null  object \n",
      " 18  Age_Drv1             51359 non-null  float64\n",
      " 19  Gender_Drv1          50453 non-null  object \n",
      " 20  Traveldirection_One  51406 non-null  object \n",
      " 21  Unitaction_One       51406 non-null  object \n",
      " 22  Violation1_Drv1      51359 non-null  object \n",
      " 23  AlcoholUse_Drv1      51359 non-null  object \n",
      " 24  DrugUse_Drv1         51359 non-null  object \n",
      " 25  Unittype_Two         48020 non-null  object \n",
      " 26  Age_Drv2             46654 non-null  float64\n",
      " 27  Gender_Drv2          46552 non-null  object \n",
      " 28  Traveldirection_Two  48020 non-null  object \n",
      " 29  Unitaction_Two       48020 non-null  object \n",
      " 30  Violation1_Drv2      46654 non-null  object \n",
      " 31  AlcoholUse_Drv2      46654 non-null  object \n",
      " 32  DrugUse_Drv2         46654 non-null  object \n",
      " 33  Latitude             51081 non-null  float64\n",
      " 34  Longitude            51081 non-null  float64\n",
      "dtypes: float64(9), int64(3), object(23)\n",
      "memory usage: 13.7+ MB\n"
     ]
    }
   ],
   "source": [
    "strike_df.info()"
   ]
  },
  {
   "cell_type": "code",
   "execution_count": 43,
   "id": "568beb81-6ddb-4b48-b4e1-40615fd669e7",
   "metadata": {
    "tags": []
   },
   "outputs": [
    {
     "data": {
      "text/plain": [
       "Index(['X', 'Y', 'OBJECTID', 'Incidentid', 'DateTime', 'Year', 'StreetName',\n",
       "       'CrossStreet', 'Distance', 'JunctionRelation', 'Totalinjuries',\n",
       "       'Totalfatalities', 'Injuryseverity', 'Collisionmanner',\n",
       "       'Lightcondition', 'Weather', 'SurfaceCondition', 'Unittype_One',\n",
       "       'Age_Drv1', 'Gender_Drv1', 'Traveldirection_One', 'Unitaction_One',\n",
       "       'Violation1_Drv1', 'AlcoholUse_Drv1', 'DrugUse_Drv1', 'Unittype_Two',\n",
       "       'Age_Drv2', 'Gender_Drv2', 'Traveldirection_Two', 'Unitaction_Two',\n",
       "       'Violation1_Drv2', 'AlcoholUse_Drv2', 'DrugUse_Drv2', 'Latitude',\n",
       "       'Longitude'],\n",
       "      dtype='object')"
      ]
     },
     "execution_count": 43,
     "metadata": {},
     "output_type": "execute_result"
    }
   ],
   "source": [
    "strike_df.columns"
   ]
  },
  {
   "cell_type": "code",
   "execution_count": 44,
   "id": "6654ec6a-a9f3-48bc-99e1-5d3a34a2ef3b",
   "metadata": {
    "tags": []
   },
   "outputs": [
    {
     "data": {
      "text/plain": [
       "array([2012, 2013, 2014, 2015, 2016, 2017, 2018, 2019, 2020, 2021, 2022,\n",
       "       2023, 2024], dtype=int64)"
      ]
     },
     "execution_count": 44,
     "metadata": {},
     "output_type": "execute_result"
    }
   ],
   "source": [
    "strike_df[\"Year\"].unique()\n"
   ]
  },
  {
   "cell_type": "code",
   "execution_count": 45,
   "id": "76de7779-93fc-4bc0-b533-888f9d140a32",
   "metadata": {
    "tags": []
   },
   "outputs": [
    {
     "data": {
      "text/html": [
       "<div>\n",
       "<style scoped>\n",
       "    .dataframe tbody tr th:only-of-type {\n",
       "        vertical-align: middle;\n",
       "    }\n",
       "\n",
       "    .dataframe tbody tr th {\n",
       "        vertical-align: top;\n",
       "    }\n",
       "\n",
       "    .dataframe thead th {\n",
       "        text-align: right;\n",
       "    }\n",
       "</style>\n",
       "<table border=\"1\" class=\"dataframe\">\n",
       "  <thead>\n",
       "    <tr style=\"text-align: right;\">\n",
       "      <th></th>\n",
       "      <th>X</th>\n",
       "      <th>Y</th>\n",
       "      <th>OBJECTID</th>\n",
       "      <th>Incidentid</th>\n",
       "      <th>DateTime</th>\n",
       "      <th>Year</th>\n",
       "      <th>StreetName</th>\n",
       "      <th>CrossStreet</th>\n",
       "      <th>Distance</th>\n",
       "      <th>JunctionRelation</th>\n",
       "      <th>...</th>\n",
       "      <th>Unittype_Two</th>\n",
       "      <th>Age_Drv2</th>\n",
       "      <th>Gender_Drv2</th>\n",
       "      <th>Traveldirection_Two</th>\n",
       "      <th>Unitaction_Two</th>\n",
       "      <th>Violation1_Drv2</th>\n",
       "      <th>AlcoholUse_Drv2</th>\n",
       "      <th>DrugUse_Drv2</th>\n",
       "      <th>Latitude</th>\n",
       "      <th>Longitude</th>\n",
       "    </tr>\n",
       "  </thead>\n",
       "  <tbody>\n",
       "    <tr>\n",
       "      <th>51402</th>\n",
       "      <td>-111.926385</td>\n",
       "      <td>33.435558</td>\n",
       "      <td>51403</td>\n",
       "      <td>4155884</td>\n",
       "      <td>2024/03/14 13:15:00+00</td>\n",
       "      <td>2024</td>\n",
       "      <td>SR-202 Exit 7 T-Ramp</td>\n",
       "      <td>NaN</td>\n",
       "      <td>0.0</td>\n",
       "      <td>Not Junction Related</td>\n",
       "      <td>...</td>\n",
       "      <td>Driver</td>\n",
       "      <td>22.0</td>\n",
       "      <td>Female</td>\n",
       "      <td>East</td>\n",
       "      <td>Stopped In Trafficway</td>\n",
       "      <td>No Improper Action</td>\n",
       "      <td>No Apparent Influence</td>\n",
       "      <td>No Apparent Influence</td>\n",
       "      <td>33.435558</td>\n",
       "      <td>-111.926385</td>\n",
       "    </tr>\n",
       "    <tr>\n",
       "      <th>51403</th>\n",
       "      <td>-111.926404</td>\n",
       "      <td>33.435576</td>\n",
       "      <td>51404</td>\n",
       "      <td>4155885</td>\n",
       "      <td>2024/03/14 13:20:00+00</td>\n",
       "      <td>2024</td>\n",
       "      <td>SR-202 Exit 7 T-Ramp</td>\n",
       "      <td>NaN</td>\n",
       "      <td>0.0</td>\n",
       "      <td>Entrance Exit Ramp 205</td>\n",
       "      <td>...</td>\n",
       "      <td>Driver</td>\n",
       "      <td>25.0</td>\n",
       "      <td>Female</td>\n",
       "      <td>West</td>\n",
       "      <td>Making Right Turn</td>\n",
       "      <td>No Improper Action</td>\n",
       "      <td>No Apparent Influence</td>\n",
       "      <td>No Apparent Influence</td>\n",
       "      <td>33.435576</td>\n",
       "      <td>-111.926404</td>\n",
       "    </tr>\n",
       "    <tr>\n",
       "      <th>51404</th>\n",
       "      <td>-111.909869</td>\n",
       "      <td>33.436621</td>\n",
       "      <td>51405</td>\n",
       "      <td>4155890</td>\n",
       "      <td>2024/03/15 07:11:00+00</td>\n",
       "      <td>2024</td>\n",
       "      <td>SR-202 Exit 8 J-Ramp</td>\n",
       "      <td>NaN</td>\n",
       "      <td>0.0</td>\n",
       "      <td>Entrance Exit Ramp 205</td>\n",
       "      <td>...</td>\n",
       "      <td>NaN</td>\n",
       "      <td>NaN</td>\n",
       "      <td>NaN</td>\n",
       "      <td>NaN</td>\n",
       "      <td>NaN</td>\n",
       "      <td>NaN</td>\n",
       "      <td>NaN</td>\n",
       "      <td>NaN</td>\n",
       "      <td>33.436621</td>\n",
       "      <td>-111.909869</td>\n",
       "    </tr>\n",
       "    <tr>\n",
       "      <th>51405</th>\n",
       "      <td>-111.939524</td>\n",
       "      <td>33.386046</td>\n",
       "      <td>51406</td>\n",
       "      <td>4155893</td>\n",
       "      <td>2024/03/09 07:44:00+00</td>\n",
       "      <td>2024</td>\n",
       "      <td>US-60 Exit 173 J-Ramp</td>\n",
       "      <td>NaN</td>\n",
       "      <td>0.0</td>\n",
       "      <td>Entrance Exit Ramp 205</td>\n",
       "      <td>...</td>\n",
       "      <td>NaN</td>\n",
       "      <td>NaN</td>\n",
       "      <td>NaN</td>\n",
       "      <td>NaN</td>\n",
       "      <td>NaN</td>\n",
       "      <td>NaN</td>\n",
       "      <td>NaN</td>\n",
       "      <td>NaN</td>\n",
       "      <td>33.386046</td>\n",
       "      <td>-111.939524</td>\n",
       "    </tr>\n",
       "    <tr>\n",
       "      <th>51406</th>\n",
       "      <td>-111.968688</td>\n",
       "      <td>33.405953</td>\n",
       "      <td>51407</td>\n",
       "      <td>4156010</td>\n",
       "      <td>2024/03/08 19:59:00+00</td>\n",
       "      <td>2024</td>\n",
       "      <td>I-10 Exit 153 C2-Ramp</td>\n",
       "      <td>NaN</td>\n",
       "      <td>0.0</td>\n",
       "      <td>Not Junction Related</td>\n",
       "      <td>...</td>\n",
       "      <td>Driver</td>\n",
       "      <td>58.0</td>\n",
       "      <td>Male</td>\n",
       "      <td>West</td>\n",
       "      <td>Going Straight Ahead</td>\n",
       "      <td>No Improper Action</td>\n",
       "      <td>No Apparent Influence</td>\n",
       "      <td>No Apparent Influence</td>\n",
       "      <td>33.405953</td>\n",
       "      <td>-111.968688</td>\n",
       "    </tr>\n",
       "  </tbody>\n",
       "</table>\n",
       "<p>5 rows × 35 columns</p>\n",
       "</div>"
      ],
      "text/plain": [
       "                X          Y  OBJECTID  Incidentid                DateTime  \\\n",
       "51402 -111.926385  33.435558     51403     4155884  2024/03/14 13:15:00+00   \n",
       "51403 -111.926404  33.435576     51404     4155885  2024/03/14 13:20:00+00   \n",
       "51404 -111.909869  33.436621     51405     4155890  2024/03/15 07:11:00+00   \n",
       "51405 -111.939524  33.386046     51406     4155893  2024/03/09 07:44:00+00   \n",
       "51406 -111.968688  33.405953     51407     4156010  2024/03/08 19:59:00+00   \n",
       "\n",
       "       Year             StreetName CrossStreet  Distance  \\\n",
       "51402  2024   SR-202 Exit 7 T-Ramp         NaN       0.0   \n",
       "51403  2024   SR-202 Exit 7 T-Ramp         NaN       0.0   \n",
       "51404  2024   SR-202 Exit 8 J-Ramp         NaN       0.0   \n",
       "51405  2024  US-60 Exit 173 J-Ramp         NaN       0.0   \n",
       "51406  2024  I-10 Exit 153 C2-Ramp         NaN       0.0   \n",
       "\n",
       "             JunctionRelation  ...  Unittype_Two  Age_Drv2 Gender_Drv2  \\\n",
       "51402    Not Junction Related  ...        Driver      22.0      Female   \n",
       "51403  Entrance Exit Ramp 205  ...        Driver      25.0      Female   \n",
       "51404  Entrance Exit Ramp 205  ...           NaN       NaN         NaN   \n",
       "51405  Entrance Exit Ramp 205  ...           NaN       NaN         NaN   \n",
       "51406    Not Junction Related  ...        Driver      58.0        Male   \n",
       "\n",
       "      Traveldirection_Two         Unitaction_Two     Violation1_Drv2  \\\n",
       "51402                East  Stopped In Trafficway  No Improper Action   \n",
       "51403                West      Making Right Turn  No Improper Action   \n",
       "51404                 NaN                    NaN                 NaN   \n",
       "51405                 NaN                    NaN                 NaN   \n",
       "51406                West   Going Straight Ahead  No Improper Action   \n",
       "\n",
       "             AlcoholUse_Drv2           DrugUse_Drv2   Latitude   Longitude  \n",
       "51402  No Apparent Influence  No Apparent Influence  33.435558 -111.926385  \n",
       "51403  No Apparent Influence  No Apparent Influence  33.435576 -111.926404  \n",
       "51404                    NaN                    NaN  33.436621 -111.909869  \n",
       "51405                    NaN                    NaN  33.386046 -111.939524  \n",
       "51406  No Apparent Influence  No Apparent Influence  33.405953 -111.968688  \n",
       "\n",
       "[5 rows x 35 columns]"
      ]
     },
     "execution_count": 45,
     "metadata": {},
     "output_type": "execute_result"
    }
   ],
   "source": [
    "strike_df.tail()"
   ]
  },
  {
   "cell_type": "code",
   "execution_count": 46,
   "id": "643ad112-1b98-47bd-ba4d-677cf51509a7",
   "metadata": {
    "tags": []
   },
   "outputs": [
    {
     "data": {
      "image/png": "[encoded data removed]",
      "text/plain": [
       "<Figure size 1000x600 with 1 Axes>"
      ]
     },
     "metadata": {},
     "output_type": "display_data"
    }
   ],
   "source": [
    "# Plot 1: Number of accidents per year\n",
    "accidents_by_year = strike_df['Year'].value_counts().sort_index()\n",
    "plt.figure(figsize=(10, 6))\n",
    "accidents_by_year.plot(kind='bar', color='skyblue')\n",
    "plt.title('Number of Accidents per Year')\n",
    "plt.xlabel('Year')\n",
    "plt.ylabel('Number of Accidents')\n",
    "plt.xticks(rotation=45)\n",
    "plt.tight_layout()\n",
    "plt.savefig('accidents_per_year.png')\n"
   ]
  },
  {
   "cell_type": "code",
   "execution_count": 51,
   "id": "1aef9143-3627-43c8-b91e-a1d9a39f330f",
   "metadata": {
    "tags": []
   },
   "outputs": [
    {
     "data": {
      "text/plain": [
       "Year\n",
       "2012    4258\n",
       "2013    4316\n",
       "2014    4372\n",
       "2015    4612\n",
       "2016    4768\n",
       "2017    4896\n",
       "2018    5049\n",
       "2019    5366\n",
       "2020    2280\n",
       "2021    2805\n",
       "2022    3745\n",
       "2023    4480\n",
       "2024     460\n",
       "Name: OBJECTID, dtype: int64"
      ]
     },
     "execution_count": 51,
     "metadata": {},
     "output_type": "execute_result"
    }
   ],
   "source": [
    "med_df= strike_df.groupby('Year')['OBJECTID'].count()\n",
    "med_df"
   ]
  },
  {
   "cell_type": "code",
   "execution_count": 52,
   "id": "ec39980d-c0e1-4063-b620-6b1572d1c5db",
   "metadata": {
    "tags": []
   },
   "outputs": [
    {
     "data": {
      "image/png": "[encoded data removed]",
      "text/plain": [
       "<Figure size 1000x600 with 1 Axes>"
      ]
     },
     "metadata": {},
     "output_type": "display_data"
    }
   ],
   "source": [
    "accidents_by_weather = strike_df['Weather'].value_counts()\n",
    "plt.figure(figsize=(10, 6))\n",
    "accidents_by_weather.plot(kind='bar', color='lightgreen')\n",
    "plt.title('Distribution of Accidents by Weather Conditions')\n",
    "plt.xlabel('Weather Condition')\n",
    "plt.ylabel('Number of Accidents')\n",
    "plt.xticks(rotation=45)\n",
    "plt.tight_layout()\n",
    "plt.savefig('accidents_by_weather.png')"
   ]
  },
  {
   "cell_type": "code",
   "execution_count": null,
   "id": "05a1ee25-f65a-4944-85b0-fa55d804de03",
   "metadata": {},
   "outputs": [],
   "source": []
  },
  {
   "cell_type": "code",
   "execution_count": null,
   "id": "eeacea6d-6a0c-41b5-ad5f-7c486b0be869",
   "metadata": {},
   "outputs": [],
   "source": []
  },
  {
   "cell_type": "code",
   "execution_count": null,
   "id": "0f865627-078e-4aa4-923a-946f234a6b0e",
   "metadata": {},
   "outputs": [],
   "source": []
  },
  {
   "cell_type": "code",
   "execution_count": null,
   "id": "17323294-d771-4abc-b225-86a88b8d5f90",
   "metadata": {},
   "outputs": [],
   "source": []
  },
  {
   "cell_type": "code",
   "execution_count": null,
   "id": "1edb9deb-51e6-412f-8a15-5bcc067de1c5",
   "metadata": {},
   "outputs": [],
   "source": []
  },
  {
   "cell_type": "code",
   "execution_count": null,
   "id": "4c0097eb-0723-4e4a-86fa-240f866f97e1",
   "metadata": {},
   "outputs": [],
   "source": []
  },
  {
   "cell_type": "code",
   "execution_count": null,
   "id": "76a9c12c-4578-4c2c-a03a-88fac311f8be",
   "metadata": {},
   "outputs": [],
   "source": []
  },
  {
   "cell_type": "code",
   "execution_count": null,
   "id": "aacff33e-9fba-4197-8320-d5928be3fb67",
   "metadata": {},
   "outputs": [],
   "source": []
  }
 ],
 "metadata": {
  "kernelspec": {
   "display_name": "Python 3 (ipykernel)",
   "language": "python",
   "name": "python3"
  },
  "language_info": {
   "codemirror_mode": {
    "name": "ipython",
    "version": 3
   },
   "file_extension": ".py",
   "mimetype": "text/x-python",
   "name": "python",
   "nbconvert_exporter": "python",
   "pygments_lexer": "ipython3",
   "version": "3.11.5"
  }
 },
 "nbformat": 4,
 "nbformat_minor": 5
}
